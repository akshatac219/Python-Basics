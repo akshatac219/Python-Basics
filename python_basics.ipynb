{
  "nbformat": 4,
  "nbformat_minor": 0,
  "metadata": {
    "colab": {
      "provenance": []
    },
    "kernelspec": {
      "name": "python3",
      "display_name": "Python 3"
    },
    "language_info": {
      "name": "python"
    }
  },
  "cells": [
    {
      "cell_type": "markdown",
      "source": [
        "#Python Basics"
      ],
      "metadata": {
        "id": "OAnlfkHH9J6r"
      }
    },
    {
      "cell_type": "markdown",
      "source": [
        "1.  What is Python, and why is it popular?\n",
        "    - Python is Programming language that is easy to understand and write,making it popular choice among developers and programmers."
      ],
      "metadata": {
        "id": "sv-tPyfc9ftN"
      }
    },
    {
      "cell_type": "markdown",
      "source": [
        "2.  What is an interpreter in Python?\n",
        "    - In Python, an interpreter is a program that reads and executes Python code line by line."
      ],
      "metadata": {
        "id": "RMhmYrke_05q"
      }
    },
    {
      "cell_type": "markdown",
      "source": [
        "3. What are pre-defined keywords in Python?\n",
        "   - Examples of keywords include if, else, while, for, def, class, import, try, except, return, True, False, None, etc."
      ],
      "metadata": {
        "id": "ajq5-pf7AyXx"
      }
    },
    {
      "cell_type": "markdown",
      "source": [
        "4. Can keywords be used as variable names ?\n",
        "   - keywords cannot be used as variable names."
      ],
      "metadata": {
        "id": "kLAmZ_97DF_F"
      }
    },
    {
      "cell_type": "markdown",
      "source": [
        "5. What is mutability in Python ?\n",
        "   - In Python, mutability refers to an object's ability to be modified after it's created"
      ],
      "metadata": {
        "id": "PYAPjituD_-s"
      }
    },
    {
      "cell_type": "markdown",
      "source": [
        "6. Why are lists mutable, but tuples are immutable?\n",
        "   - Lists can be modified after creation, but tuples cannot modified after creation.  "
      ],
      "metadata": {
        "id": "t13wptGvFdEM"
      }
    },
    {
      "cell_type": "markdown",
      "source": [
        "7. What is the difference between “==” and “is” operators in Python?\n",
        "   - In python, \"==\" (equality operator) checks if two objects have the same value, while \"is\" (identity operator) checks if two variables point to the same object in memory."
      ],
      "metadata": {
        "id": "YbhYdow0GOgX"
      }
    },
    {
      "cell_type": "markdown",
      "source": [
        "8. What are logical operators in Python ?\n",
        "   - examples of logical operators in python - Logical AND, Logical OR, Logical NOT (not)"
      ],
      "metadata": {
        "id": "RFq4Luj2M_Iz"
      }
    },
    {
      "cell_type": "markdown",
      "source": [
        "9.  What is type casting in Python ?\n",
        "   - Type casting, also referred to as type conversion, is the process of changing one data type to another in Python.\n",
        "\n"
      ],
      "metadata": {
        "id": "5mvIW1qHRkY4"
      }
    },
    {
      "cell_type": "markdown",
      "source": [
        "10. What is the difference between implicit and explicit type casting ?\n",
        "    - Implicit type casting, also known as widening conversion, happens automatically by the compiler when a smaller data type is assigned to a larger data type. Explicit type casting, or narrowing conversion, requires the programmer to explicitly instruct the compiler to convert a data type, often involving potential data loss"
      ],
      "metadata": {
        "id": "q35RFVUESYDm"
      }
    },
    {
      "cell_type": "markdown",
      "source": [
        "11. What is the purpose of conditional statements in Python?\n",
        "    - The purpose of conditional statements in Python is to control the flow of a program by executing different blocks of code based on conditions."
      ],
      "metadata": {
        "id": "_LGil_uVT9ze"
      }
    },
    {
      "cell_type": "markdown",
      "source": [
        "12. How does the elif statement work ?\n",
        "    - The “elif” keyword in Python, stands for “else if”. It can be used in conditional statements to check for multiple conditions."
      ],
      "metadata": {
        "id": "V0njMMOlU37Q"
      }
    },
    {
      "cell_type": "markdown",
      "source": [
        "13. What is the difference between for and while loops?\n",
        "    - A for loop in Python repeats executing a code block from a sequence till certain number of times. Whereas a while loop in Python repeats execution of a code block till the condition is true which is not certain."
      ],
      "metadata": {
        "id": "8HWu2NcPVLIn"
      }
    },
    {
      "cell_type": "markdown",
      "source": [
        "14. Describe a scenario where a while loop is more suitable than a for loop?\n",
        "    - In python, for loops are best used when you know the number of iterations ahead of time, whereas a while loop is best used when you don't know the number of iterations in advance"
      ],
      "metadata": {
        "id": "TTbRetb5XaID"
      }
    },
    {
      "cell_type": "code",
      "source": [
        "# 1. Write a Python program to print \"Hello World!\"\n",
        "'''\n",
        "this is a answer\n",
        "'''\n",
        "print(\"Hello World!\")"
      ],
      "metadata": {
        "id": "KTmDRxpa84Mq",
        "colab": {
          "base_uri": "https://localhost:8080/"
        },
        "outputId": "e398d134-b227-49e0-fe66-dad6ca4b7c62"
      },
      "execution_count": 1,
      "outputs": [
        {
          "output_type": "stream",
          "name": "stdout",
          "text": [
            "Hello World!\n"
          ]
        }
      ]
    },
    {
      "cell_type": "code",
      "source": [
        "# 2. Write a Python program that displays your name and age.\n",
        "'''\n",
        "this is a answer\n",
        "'''\n",
        "name = input(\"please enter your name: \")\n",
        "age = input(\"please enter your age: \")"
      ],
      "metadata": {
        "colab": {
          "base_uri": "https://localhost:8080/"
        },
        "id": "NWvnExp4moto",
        "outputId": "52dcc509-6c34-4248-9289-5ddac7340e9a"
      },
      "execution_count": 2,
      "outputs": [
        {
          "name": "stdout",
          "output_type": "stream",
          "text": [
            "please enter your name: Akshata\n",
            "please enter your age: 23\n"
          ]
        }
      ]
    },
    {
      "cell_type": "code",
      "source": [
        "# 3. Write code to print all the pre-defined keywords in Python using the keyword library.\n",
        "'''\n",
        "this is a answer\n",
        "'''\n",
        "help('keywords')"
      ],
      "metadata": {
        "colab": {
          "base_uri": "https://localhost:8080/"
        },
        "id": "lkc5xWLopPrl",
        "outputId": "5c9a6d36-2eea-467e-a71d-36799ef936d9"
      },
      "execution_count": 6,
      "outputs": [
        {
          "output_type": "stream",
          "name": "stdout",
          "text": [
            "\n",
            "Here is a list of the Python keywords.  Enter any keyword to get more help.\n",
            "\n",
            "False               class               from                or\n",
            "None                continue            global              pass\n",
            "True                def                 if                  raise\n",
            "and                 del                 import              return\n",
            "as                  elif                in                  try\n",
            "assert              else                is                  while\n",
            "async               except              lambda              with\n",
            "await               finally             nonlocal            yield\n",
            "break               for                 not                 \n",
            "\n"
          ]
        }
      ]
    },
    {
      "cell_type": "code",
      "source": [
        "# 4. Write a program that checks if a given word is a Python keyword.\n",
        "'''\n",
        "this is a answer\n",
        "'''\n",
        "import keyword\n",
        "\n",
        "def check_keyword(word):\n",
        "    if keyword.iskeyword(word):\n",
        "        print(f\"'{word}' is a Python keyword.\")\n",
        "    else:\n",
        "        print(f\"'{word}' is not a Python keyword.\")\n",
        "\n",
        "# Example usage\n",
        "user_input = input(\"Enter a word to check if it's a Python keyword: \")\n",
        "check_keyword(user_input)\n"
      ],
      "metadata": {
        "colab": {
          "base_uri": "https://localhost:8080/"
        },
        "id": "e9f3fwmfp1SF",
        "outputId": "b3e954bf-25b2-4fee-d6da-d914a9111c7c"
      },
      "execution_count": 7,
      "outputs": [
        {
          "output_type": "stream",
          "name": "stdout",
          "text": [
            "Enter a word to check if it's a Python keyword: or\n",
            "'or' is a Python keyword.\n"
          ]
        }
      ]
    },
    {
      "cell_type": "code",
      "source": [
        "# 5.  Create a list and tuple in Python, and demonstrate how attempting to change an element works differently for each.\n",
        "'''\n",
        "this is a answer\n",
        "'''\n",
        "# Creating a list\n",
        "my_list = [1, 2, 3, 4, 5]\n",
        "print(\"Original List:\", my_list)\n",
        "\n",
        "# Attempting to modify an element in the list\n",
        "my_list[2] = 10\n",
        "print(\"List after modification:\", my_list)\n",
        "\n",
        "# Creating a tuple\n",
        "my_tuple = (1, 2, 3, 4, 5)\n",
        "print(\"\\nOriginal Tuple:\", my_tuple)\n",
        "\n",
        "# Attempting to modify an element in the tuple (this will raise an error)\n",
        "try:\n",
        "    my_tuple[2] = 10\n",
        "except TypeError as e:\n",
        "    print(\"Error when trying to modify tuple:\", e)\n"
      ],
      "metadata": {
        "colab": {
          "base_uri": "https://localhost:8080/"
        },
        "id": "bgrKDVG8s9WG",
        "outputId": "29bf156b-6709-4bff-f12e-54692e315c75"
      },
      "execution_count": 8,
      "outputs": [
        {
          "output_type": "stream",
          "name": "stdout",
          "text": [
            "Original List: [1, 2, 3, 4, 5]\n",
            "List after modification: [1, 2, 10, 4, 5]\n",
            "\n",
            "Original Tuple: (1, 2, 3, 4, 5)\n",
            "Error when trying to modify tuple: 'tuple' object does not support item assignment\n"
          ]
        }
      ]
    },
    {
      "cell_type": "code",
      "source": [
        "# 6. Write a function to demonstrate the behavior of mutable and immutable arguments.\n",
        "'''\n",
        "this is a answer\n",
        "'''\n",
        "# Function to demonstrate mutable and immutable argument behavior\n",
        "def modify_arguments(mutable_arg, immutable_arg):\n",
        "    print(\"Inside function:\")\n",
        "    print(\"Before modification:\")\n",
        "    print(\"Mutable argument:\", mutable_arg)\n",
        "    print(\"Immutable argument:\", immutable_arg)\n",
        "\n",
        "    # Modifying the mutable argument (list)\n",
        "    mutable_arg.append(6)  # List is mutable, so this will change the list\n",
        "    print(\"\\nMutable argument after modification:\", mutable_arg)\n",
        "\n",
        "    # Modifying the immutable argument (integer)\n",
        "    immutable_arg += 5  # Integer is immutable, this won't change the original integer\n",
        "    print(\"Immutable argument after modification:\", immutable_arg)\n",
        "\n",
        "# Example usage:\n",
        "my_list = [1, 2, 3]\n",
        "my_number = 10\n",
        "\n",
        "# Calling the function with mutable and immutable arguments\n",
        "modify_arguments(my_list, my_number)\n",
        "\n",
        "# Checking the values after function call\n",
        "print(\"\\nOutside function:\")\n",
        "print(\"Mutable argument (list) after function call:\", my_list)\n",
        "print(\"Immutable argument (integer) after function call:\", my_number)\n"
      ],
      "metadata": {
        "colab": {
          "base_uri": "https://localhost:8080/"
        },
        "id": "6TcftBR4jt9M",
        "outputId": "cfc03c96-0ce4-4989-8f0f-020a3060ab26"
      },
      "execution_count": 9,
      "outputs": [
        {
          "output_type": "stream",
          "name": "stdout",
          "text": [
            "Inside function:\n",
            "Before modification:\n",
            "Mutable argument: [1, 2, 3]\n",
            "Immutable argument: 10\n",
            "\n",
            "Mutable argument after modification: [1, 2, 3, 6]\n",
            "Immutable argument after modification: 15\n",
            "\n",
            "Outside function:\n",
            "Mutable argument (list) after function call: [1, 2, 3, 6]\n",
            "Immutable argument (integer) after function call: 10\n"
          ]
        }
      ]
    },
    {
      "cell_type": "code",
      "source": [
        "# 7. Write a program that performs basic arithmetic operations on two user-input numbers.\n",
        "'''\n",
        "this is a answer\n",
        "'''\n",
        "def perform_arithmetic_operations():\n",
        "    # Taking two numbers as input from the user\n",
        "    try:\n",
        "        num1 = float(input(\"Enter the first number: \"))\n",
        "        num2 = float(input(\"Enter the second number: \"))\n",
        "\n",
        "        # Performing basic arithmetic operations\n",
        "        addition = num1 + num2\n",
        "        subtraction = num1 - num2\n",
        "        multiplication = num1 * num2\n",
        "\n",
        "        # Handling division with a check to prevent division by zero\n",
        "        if num2 != 0:\n",
        "            division = num1 / num2\n",
        "        else:\n",
        "            division = \"Cannot divide by zero\"\n",
        "\n",
        "        # Displaying the results\n",
        "        print(\"\\nResults:\")\n",
        "        print(f\"{num1} + {num2} = {addition}\")\n",
        "        print(f\"{num1} - {num2} = {subtraction}\")\n",
        "        print(f\"{num1} * {num2} = {multiplication}\")\n",
        "        print(f\"{num1} / {num2} = {division}\")\n",
        "\n",
        "    except ValueError:\n",
        "        print(\"Invalid input! Please enter numeric values.\")\n",
        "\n",
        "# Calling the function\n",
        "perform_arithmetic_operations()\n"
      ],
      "metadata": {
        "colab": {
          "base_uri": "https://localhost:8080/"
        },
        "id": "VuBkk5zWkBUP",
        "outputId": "2e7f5945-74a7-4d6d-9930-b921fa882f26"
      },
      "execution_count": 10,
      "outputs": [
        {
          "output_type": "stream",
          "name": "stdout",
          "text": [
            "Enter the first number: 1\n",
            "Enter the second number: 3\n",
            "\n",
            "Results:\n",
            "1.0 + 3.0 = 4.0\n",
            "1.0 - 3.0 = -2.0\n",
            "1.0 * 3.0 = 3.0\n",
            "1.0 / 3.0 = 0.3333333333333333\n"
          ]
        }
      ]
    },
    {
      "cell_type": "code",
      "source": [
        "# 8. Write a program to demonstrate the use of logical operators.\n",
        "'''\n",
        "this is a answer\n",
        "'''\n",
        "def demonstrate_logical_operators():\n",
        "    # Taking user input for two conditions\n",
        "    a = bool(int(input(\"Enter 1 for True or 0 for False for condition 'a': \")))\n",
        "    b = bool(int(input(\"Enter 1 for True or 0 for False for condition 'b': \")))\n",
        "\n",
        "    # Demonstrating the 'and' logical operator\n",
        "    and_result = a and b\n",
        "    print(f\"\\nLogical 'AND' (a and b): {and_result}\")\n",
        "\n",
        "    # Demonstrating the 'or' logical operator\n",
        "    or_result = a or b\n",
        "    print(f\"Logical 'OR' (a or b): {or_result}\")\n",
        "\n",
        "    # Demonstrating the 'not' logical operator\n",
        "    not_a = not a\n",
        "    not_b = not b\n",
        "    print(f\"Logical 'NOT' (not a): {not_a}\")\n",
        "    print(f\"Logical 'NOT' (not b): {not_b}\")\n",
        "\n",
        "# Calling the function\n",
        "demonstrate_logical_operators()\n"
      ],
      "metadata": {
        "colab": {
          "base_uri": "https://localhost:8080/"
        },
        "id": "NG7XJ4ubkPlD",
        "outputId": "7baf11d3-51f9-453f-b89b-e26577c5fdf3"
      },
      "execution_count": 11,
      "outputs": [
        {
          "output_type": "stream",
          "name": "stdout",
          "text": [
            "Enter 1 for True or 0 for False for condition 'a': 1\n",
            "Enter 1 for True or 0 for False for condition 'b': 0\n",
            "\n",
            "Logical 'AND' (a and b): False\n",
            "Logical 'OR' (a or b): True\n",
            "Logical 'NOT' (not a): False\n",
            "Logical 'NOT' (not b): True\n"
          ]
        }
      ]
    },
    {
      "cell_type": "code",
      "source": [
        "# 9. Write a Python program to convert user input from string to integer, float, and boolean types.\n",
        "'''\n",
        "this is a answer\n",
        "'''\n",
        "def convert_input():\n",
        "    # Take user input as a string\n",
        "    user_input = input(\"Enter something: \")\n",
        "\n",
        "    # Convert to integer (if possible)\n",
        "    try:\n",
        "        user_input_int = int(user_input)\n",
        "        print(f\"Converted to integer: {user_input_int}\")\n",
        "    except ValueError:\n",
        "        print(\"Could not convert to integer.\")\n",
        "\n",
        "    # Convert to float (if possible)\n",
        "    try:\n",
        "        user_input_float = float(user_input)\n",
        "        print(f\"Converted to float: {user_input_float}\")\n",
        "    except ValueError:\n",
        "        print(\"Could not convert to float.\")\n",
        "\n",
        "    # Convert to boolean (non-empty string is True, empty string is False)\n",
        "    user_input_bool = bool(user_input)\n",
        "    print(f\"Converted to boolean: {user_input_bool}\")\n",
        "\n",
        "# Calling the function\n",
        "convert_input()\n"
      ],
      "metadata": {
        "colab": {
          "base_uri": "https://localhost:8080/"
        },
        "id": "BWeIw-YYlZcq",
        "outputId": "e59c8e57-6a19-4fd5-fdf1-e095d9eef162"
      },
      "execution_count": 12,
      "outputs": [
        {
          "output_type": "stream",
          "name": "stdout",
          "text": [
            "Enter something: 5\n",
            "Converted to integer: 5\n",
            "Converted to float: 5.0\n",
            "Converted to boolean: True\n"
          ]
        }
      ]
    },
    {
      "cell_type": "code",
      "source": [
        "# 10. Write code to demonstrate type casting with list elements.\n",
        "'''\n",
        "this is a answer\n",
        "'''\n",
        "def demonstrate_type_casting():\n",
        "    # List of strings representing numbers\n",
        "    string_list = [\"10\", \"20\", \"30\", \"40.5\", \"50\"]\n",
        "\n",
        "    print(\"Original list of strings:\", string_list)\n",
        "\n",
        "    # Type cast the string list to integers (where possible)\n",
        "    int_list = []\n",
        "    for item in string_list:\n",
        "        try:\n",
        "            int_list.append(int(item))  # Convert each string to an integer\n",
        "        except ValueError:\n",
        "            int_list.append(None)  # If it's not an integer, append None\n",
        "\n",
        "    print(\"\\nList converted to integers:\", int_list)\n",
        "\n",
        "    # Type cast the string list to floats (where possible)\n",
        "    float_list = []\n",
        "    for item in string_list:\n",
        "        try:\n",
        "            float_list.append(float(item))  # Convert each string to a float\n",
        "        except ValueError:\n",
        "            float_list.append(None)  # If it's not a float, append None\n",
        "\n",
        "    print(\"\\nList converted to floats:\", float_list)\n",
        "\n",
        "    # Type cast the list of integers to strings\n",
        "    int_to_str_list = [str(i) for i in int_list if i is not None]  # Ignore None values\n",
        "    print(\"\\nList converted back to strings:\", int_to_str_list)\n",
        "\n",
        "# Calling the function\n",
        "demonstrate_type_casting()\n"
      ],
      "metadata": {
        "colab": {
          "base_uri": "https://localhost:8080/"
        },
        "id": "0D0HSpxmmETD",
        "outputId": "f3747499-8943-4e7b-f6eb-d20514d1454c"
      },
      "execution_count": 13,
      "outputs": [
        {
          "output_type": "stream",
          "name": "stdout",
          "text": [
            "Original list of strings: ['10', '20', '30', '40.5', '50']\n",
            "\n",
            "List converted to integers: [10, 20, 30, None, 50]\n",
            "\n",
            "List converted to floats: [10.0, 20.0, 30.0, 40.5, 50.0]\n",
            "\n",
            "List converted back to strings: ['10', '20', '30', '50']\n"
          ]
        }
      ]
    },
    {
      "cell_type": "code",
      "source": [
        "# 11.  Write a program that checks if a number is positive, negative, or zero.\n",
        "'''\n",
        "this is a answer\n",
        "'''\n",
        "def check_number():\n",
        "    # Take user input\n",
        "    try:\n",
        "        num = float(input(\"Enter a number: \"))\n",
        "\n",
        "        # Check if the number is positive, negative, or zero\n",
        "        if num > 0:\n",
        "            print(f\"{num} is a positive number.\")\n",
        "        elif num < 0:\n",
        "            print(f\"{num} is a negative number.\")\n",
        "        else:\n",
        "            print(f\"{num} is zero.\")\n",
        "    except ValueError:\n",
        "        print(\"Invalid input! Please enter a valid number.\")\n",
        "\n",
        "# Calling the function\n",
        "check_number()\n"
      ],
      "metadata": {
        "colab": {
          "base_uri": "https://localhost:8080/"
        },
        "id": "2f5jZEOJmNVq",
        "outputId": "b49bb99a-6fc5-42fd-eb12-7704381e56fb"
      },
      "execution_count": 17,
      "outputs": [
        {
          "output_type": "stream",
          "name": "stdout",
          "text": [
            "Enter a number: -2\n",
            "-2.0 is a negative number.\n"
          ]
        }
      ]
    },
    {
      "cell_type": "code",
      "source": [
        "# 12. Write a for loop to print numbers from 1 to 10.\n",
        "'''\n",
        "this is a answer\n",
        "'''\n",
        "# For loop to print numbers from 1 to 10\n",
        "for i in range(1, 11):\n",
        "    print(i)\n"
      ],
      "metadata": {
        "colab": {
          "base_uri": "https://localhost:8080/"
        },
        "id": "Qyj3jCyoma5C",
        "outputId": "c1bc364a-32ee-4501-e1aa-b8f3a21ed25c"
      },
      "execution_count": 16,
      "outputs": [
        {
          "output_type": "stream",
          "name": "stdout",
          "text": [
            "1\n",
            "2\n",
            "3\n",
            "4\n",
            "5\n",
            "6\n",
            "7\n",
            "8\n",
            "9\n",
            "10\n"
          ]
        }
      ]
    },
    {
      "cell_type": "code",
      "source": [
        "# 13. Write a Python program to find the sum of all even numbers between 1 and 50.\n",
        "'''\n",
        "this is a answer\n",
        "'''\n",
        "def sum_of_even_numbers():\n",
        "    # Initialize sum variable\n",
        "    total_sum = 0\n",
        "\n",
        "    # Loop through numbers from 1 to 50\n",
        "    for i in range(1, 51):\n",
        "        if i % 2 == 0:  # Check if the number is even\n",
        "            total_sum += i  # Add even number to the sum\n",
        "\n",
        "    print(\"The sum of all even numbers between 1 and 50 is:\", total_sum)\n",
        "\n",
        "# Calling the function\n",
        "sum_of_even_numbers()\n"
      ],
      "metadata": {
        "colab": {
          "base_uri": "https://localhost:8080/"
        },
        "id": "SLmHMxqSmxSE",
        "outputId": "127019dd-fe88-48de-9b10-6efbdc5d8a36"
      },
      "execution_count": 18,
      "outputs": [
        {
          "output_type": "stream",
          "name": "stdout",
          "text": [
            "The sum of all even numbers between 1 and 50 is: 650\n"
          ]
        }
      ]
    },
    {
      "cell_type": "code",
      "source": [
        "# 14 . Write a program to reverse a string using a while loop.\n",
        "'''\n",
        "this is a answer\n",
        "'''\n",
        "def reverse_string():\n",
        "    # Take user input for the string\n",
        "    user_input = input(\"Enter a string to reverse: \")\n",
        "\n",
        "    # Initialize an empty string to store the reversed string\n",
        "    reversed_string = \"\"\n",
        "\n",
        "    # Initialize a variable for the index (starting from the last character)\n",
        "    index = len(user_input) - 1\n",
        "\n",
        "    # Use a while loop to traverse the string backwards\n",
        "    while index >= 0:\n",
        "        reversed_string += user_input[index]  # Append the character to the reversed string\n",
        "        index -= 1  # Move to the previous character\n",
        "\n",
        "    # Print the reversed string\n",
        "    print(\"Reversed string:\", reversed_string)\n",
        "\n",
        "# Calling the function\n",
        "reverse_string()\n"
      ],
      "metadata": {
        "colab": {
          "base_uri": "https://localhost:8080/"
        },
        "id": "PPCW8-7Tm8ow",
        "outputId": "46a77ba8-696b-43a5-ff48-fa377bc2699c"
      },
      "execution_count": 19,
      "outputs": [
        {
          "output_type": "stream",
          "name": "stdout",
          "text": [
            "Enter a string to reverse: apple\n",
            "Reversed string: elppa\n"
          ]
        }
      ]
    },
    {
      "cell_type": "code",
      "source": [
        "# 15. Write a Python program to calculate the factorial of a number provided by the user using a while loop.\n",
        "'''\n",
        "this is a answer\n",
        "'''\n",
        "def calculate_factorial():\n",
        "    # Take user input for the number\n",
        "    try:\n",
        "        num = int(input(\"Enter a number to calculate its factorial: \"))\n",
        "\n",
        "        # Check if the number is negative\n",
        "        if num < 0:\n",
        "            print(\"Factorial is not defined for negative numbers.\")\n",
        "            return\n",
        "\n",
        "        # Initialize the factorial result to 1\n",
        "        factorial = 1\n",
        "\n",
        "        # Use a while loop to calculate the factorial\n",
        "        while num > 0:\n",
        "            factorial *= num  # Multiply the current factorial by the number\n",
        "            num -= 1  # Decrement the number\n",
        "\n",
        "        # Print the result\n",
        "        print(f\"The factorial is: {factorial}\")\n",
        "\n",
        "    except ValueError:\n",
        "        print(\"Invalid input! Please enter a valid integer.\")\n",
        "\n",
        "# Calling the function\n",
        "calculate_factorial()\n"
      ],
      "metadata": {
        "colab": {
          "base_uri": "https://localhost:8080/"
        },
        "id": "8JA8D_VDnJyv",
        "outputId": "5d5b772d-56a8-40be-fb7a-60d691991cec"
      },
      "execution_count": 21,
      "outputs": [
        {
          "output_type": "stream",
          "name": "stdout",
          "text": [
            "Enter a number to calculate its factorial: -2\n",
            "Factorial is not defined for negative numbers.\n"
          ]
        }
      ]
    },
    {
      "cell_type": "code",
      "source": [],
      "metadata": {
        "id": "K_Ad3MSsnq6b"
      },
      "execution_count": null,
      "outputs": []
    }
  ]
}